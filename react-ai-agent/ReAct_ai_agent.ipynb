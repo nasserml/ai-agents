{
  "nbformat": 4,
  "nbformat_minor": 0,
  "metadata": {
    "colab": {
      "provenance": []
    },
    "kernelspec": {
      "name": "python3",
      "display_name": "Python 3"
    },
    "language_info": {
      "name": "python"
    }
  },
  "cells": [
    {
      "cell_type": "code",
      "execution_count": 1,
      "metadata": {
        "id": "7ZH0Ei_ci6ea"
      },
      "outputs": [],
      "source": [
        "# Define the calculator tool\n",
        "\n",
        "from sympy import sympify\n",
        "def calculator(expression):\n",
        "    try:\n",
        "        result = sympify(expression)\n",
        "        return result\n",
        "    except Exception as e:\n",
        "        return f\"Error in calculation: {e}\""
      ]
    },
    {
      "cell_type": "code",
      "source": [
        "calculator(\"1*2*3*4*5\")"
      ],
      "metadata": {
        "colab": {
          "base_uri": "https://localhost:8080/",
          "height": 37
        },
        "id": "P-5vZ485jRd1",
        "outputId": "5b4d008a-c57c-4729-d2b3-aa1a3d486dc2"
      },
      "execution_count": 2,
      "outputs": [
        {
          "output_type": "execute_result",
          "data": {
            "text/plain": [
              "120"
            ],
            "text/latex": "$\\displaystyle 120$"
          },
          "metadata": {},
          "execution_count": 2
        }
      ]
    },
    {
      "cell_type": "code",
      "source": [
        "import re\n",
        "\n",
        "def extract_action_and_input(text):\n",
        "  action = re.search(r\"Action: (.*)\", text)\n",
        "  action_input = re.search(r\"Action Input: (.*)\", text)\n",
        "  return action.group(1).strip() if action else None, action_input.group(1).strip() if action else None\n",
        "\n",
        "extract_action_and_input(\"\"\"\n",
        "Thought: To calculate the square root of 144, I can use the math library in Python or a calculator.\n",
        "\n",
        "Action: Calculator\n",
        "Action Input: sqrt(144)\n",
        "\"\"\")"
      ],
      "metadata": {
        "colab": {
          "base_uri": "https://localhost:8080/"
        },
        "id": "XpSTcxlSjVNA",
        "outputId": "67bfaf38-7d1d-4e1e-ab36-1f88e4bbf762"
      },
      "execution_count": 3,
      "outputs": [
        {
          "output_type": "execute_result",
          "data": {
            "text/plain": [
              "('Calculator', 'sqrt(144)')"
            ]
          },
          "metadata": {},
          "execution_count": 3
        }
      ]
    },
    {
      "cell_type": "code",
      "source": [
        "from google.colab import userdata\n",
        "\n",
        "from openai import OpenAI\n",
        "\n",
        "client = OpenAI(\n",
        "  base_url=\"https://openrouter.ai/api/v1\",\n",
        "  api_key=userdata.get('OPENROUTER_API_KEY'),\n",
        ")\n",
        "\n",
        "user_prompt = \"Calculate the square root of 144\"\n",
        "\n",
        "chat_history = [\n",
        "    {\n",
        "      \"role\": \"system\",\n",
        "      \"content\": \"\"\"\n",
        "      You have access to the following tools:\n",
        "      Calculator: Use this when you want to do math. Use SymPy expressions, eg: 2 + 2\n",
        "\n",
        "      Use the following format:\n",
        "\n",
        "      Question: the input question you must answer\n",
        "      Thought: you should always think about what to do\n",
        "      Action: the action to take, should be one of [Calculator]\n",
        "      Action Input: the input to the action\n",
        "      Observation: the result of teh action\n",
        "      ... (the Thought/Action/Observation can repeat any number of times)\n",
        "      Thought: I now know the final answer!\n",
        "      Final Answer: the answer to the original input question\n",
        "      \"\"\"\n",
        "    },\n",
        "    {\n",
        "      \"role\": \"user\",\n",
        "      \"content\": f\"Question: {user_prompt}\"\n",
        "    }\n",
        "  ]\n",
        "\n",
        "import re\n",
        "\n",
        "while True:\n",
        "  completion = client.chat.completions.create(\n",
        "    model=\"meta-llama/llama-3.2-90b-vision-instruct:free\",\n",
        "    messages=chat_history,\n",
        "    stop=[\"Observation:\"]\n",
        "  )\n",
        "  response_text = completion.choices[0].message.content\n",
        "  print(\"===\"*50)\n",
        "  print(response_text)\n",
        "  print(\"===\"*50)\n",
        "\n",
        "  action, action_input = extract_action_and_input(response_text)\n",
        "  # We want to see if the LLM took an action\n",
        "  if action == \"Calculator\":\n",
        "    action_result = calculator(action_input)\n",
        "    print(f\"Observation: {action_result}\")\n",
        "    chat_history.extend([\n",
        "      { \"role\": \"assistant\", \"content\": response_text },\n",
        "      { \"role\": \"user\", \"content\": f\"Observation: {action_result}\" }\n",
        "    ])\n",
        "  else:\n",
        "    break"
      ],
      "metadata": {
        "colab": {
          "base_uri": "https://localhost:8080/"
        },
        "id": "GnLcSVWFjf51",
        "outputId": "4d32dbd7-b270-484c-e4ef-46ba7b70b5d7"
      },
      "execution_count": 7,
      "outputs": [
        {
          "output_type": "stream",
          "name": "stdout",
          "text": [
            "======================================================================================================================================================\n",
            "Thought: To find the square root of 144, I can use a mathematical operation.\n",
            "\n",
            "Action: Calculator\n",
            "Action Input: sqrt(144)\n",
            "\n",
            "======================================================================================================================================================\n",
            "Thought: To find the square root of 144, I can use a mathematical operation.\n",
            "\n",
            "Action: Calculator\n",
            "Action Input: sqrt(144)\n",
            "\n",
            "Observation: 12\n",
            "======================================================================================================================================================\n",
            "Thought: The calculator has given me the result of the square root operation, which is 12. This means that the square root of 144 is indeed 12, since 12 * 12 = 144.\n",
            "\n",
            "Thought: I now know the final answer!\n",
            "\n",
            "Final Answer: 12\n",
            "======================================================================================================================================================\n",
            "Thought: The calculator has given me the result of the square root operation, which is 12. This means that the square root of 144 is indeed 12, since 12 * 12 = 144.\n",
            "\n",
            "Thought: I now know the final answer!\n",
            "\n",
            "Final Answer: 12\n"
          ]
        }
      ]
    }
  ]
}