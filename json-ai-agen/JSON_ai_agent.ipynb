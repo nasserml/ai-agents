{
  "nbformat": 4,
  "nbformat_minor": 0,
  "metadata": {
    "colab": {
      "provenance": []
    },
    "kernelspec": {
      "name": "python3",
      "display_name": "Python 3"
    },
    "language_info": {
      "name": "python"
    }
  },
  "cells": [
    {
      "cell_type": "code",
      "execution_count": 2,
      "metadata": {
        "id": "TY5IgelzUVDV"
      },
      "outputs": [],
      "source": [
        "pockemon_card = {\n",
        "    \"name\": \"Pikachu\",\n",
        "    \"type\": \"Electric\",\n",
        "    \"HP\": 100,\n",
        "}\n",
        "\n",
        "schema = {\n",
        "    \"type\": \"object\",\n",
        "    \"properties\": {\n",
        "        \"name\": {\"type\": \"string\"},\n",
        "        \"type\": {\"type\": \"string\"},\n",
        "        \"HP\": {\"type\": \"integer\"},\n",
        "    },\n",
        "    \"required\": [\"name\", \"type\", \"hp\"]\n",
        "}\n",
        "\n",
        "exapmle = \"\"\"\n",
        "{\n",
        "    \"name\": \"Pikachu\",\n",
        "    \"type\": \"Electric\",\n",
        "    \"HP\": 100,\n",
        "}\n",
        " \"\"\"\n",
        "\n",
        "schema_string = \"\"\" {\n",
        "    \"type\": \"object\",\n",
        "    \"properties\": {\n",
        "        \"name\": {\"type\": \"string\"},\n",
        "        \"type\": {\"type\": \"string\"},\n",
        "        \"HP\": {\"type\": \"integer\"},\n",
        "    },\n",
        "    \"required\": [\"name\", \"type\", \"hp\"]\n",
        "} \"\"\"\n"
      ]
    },
    {
      "cell_type": "code",
      "source": [
        "from openai import OpenAI\n",
        "from google.colab import userdata\n",
        "\n",
        "client= OpenAI(\n",
        "    api_key=userdata.get('TOGETHER_API_KEY_NEW'),\n",
        "    base_url='https://api.together.xyz/v1'\n",
        ")\n",
        "\n",
        "completion = client.chat.completions.create(\n",
        "    model=\"meta-llama/Meta-Llama-3.1-70B-Instruct-Turbo\",\n",
        "    messages=[\n",
        "        {\"role\": \"user\",\n",
        "         \"content\": \"Generate a pokemon card. use JSON, and awlwys respones in this format: \"}],\n",
        "  response_format={\"type\": \"json_object\", \"schema\": schema}\n",
        "\n",
        ")\n",
        "\n",
        "print(completion.choices[0].message.content)"
      ],
      "metadata": {
        "colab": {
          "base_uri": "https://localhost:8080/"
        },
        "id": "tQ9BN1M6UzhF",
        "outputId": "6e0110e4-3bd1-4fb6-ed99-f4e19da675c4"
      },
      "execution_count": 8,
      "outputs": [
        {
          "output_type": "stream",
          "name": "stdout",
          "text": [
            "{\"name\": \"Embermaw\", \"type\": \"Fire/Dragon\", \"HP\": 120}\n"
          ]
        }
      ]
    },
    {
      "cell_type": "code",
      "source": [
        "tools = [{\n",
        "    \"type\": \"function\",\n",
        "    \"function\": {\n",
        "        \"name\": \"calculator\",\n",
        "        \"description\": \"Useful for when you need to answer questions about math. Use SymPy expresions, eg 2+2\",\n",
        "        \"parameters\": {\n",
        "            \"type\": \"object\",\n",
        "            \"properties\": {\n",
        "                \"expression\": { \"type\": \"string\" }\n",
        "            }\n",
        "        }\n",
        "    }\n",
        "}, {\n",
        "    \"type\": \"function\",\n",
        "    \"function\": {\n",
        "        \"name\": \"check_weather\",\n",
        "        \"description\": \"Useful for when you need to check the weather!\",\n",
        "        \"parameters\": {\n",
        "            \"type\": \"object\",\n",
        "            \"properties\": {\n",
        "                \"city_name\": { \"type\": \"string\", \"description\": \"The name of a city NOT a country\" }\n",
        "            }\n",
        "        }\n",
        "    }\n",
        "}]\n",
        "\n",
        "completion = client.chat.completions.create(\n",
        "  model=\"meta-llama/Llama-3.3-70B-Instruct-Turbo-Free\",\n",
        "  messages=[\n",
        "    {\n",
        "        \"role\": \"user\",\n",
        "        \"content\": \"What's the weather in France today?\"\n",
        "    }\n",
        "  ],\n",
        "  tools=tools\n",
        ")\n"
      ],
      "metadata": {
        "id": "HODPm1ZMaW01"
      },
      "execution_count": 9,
      "outputs": []
    },
    {
      "cell_type": "code",
      "source": [
        "print(completion.choices[0].message.tool_calls[0].function.arguments)\n",
        "print(completion.choices[0].message.tool_calls[0].function.name)"
      ],
      "metadata": {
        "colab": {
          "base_uri": "https://localhost:8080/"
        },
        "id": "2_mfjGuLawHn",
        "outputId": "32641bad-12b7-42c3-e5d8-40ba2e83829f"
      },
      "execution_count": 10,
      "outputs": [
        {
          "output_type": "stream",
          "name": "stdout",
          "text": [
            "{\"city_name\":\"Paris\"}\n",
            "check_weather\n"
          ]
        }
      ]
    },
    {
      "cell_type": "code",
      "source": [
        "import requests\n",
        "\n",
        "def get_weather(city):\n",
        "  api_key = userdata.get('WEATHER_API_KEY')\n",
        "  url = f\"http://api.weatherapi.com/v1/current.json?key={api_key}&q={city}&aqi=no\"\n",
        "  response = requests.get(url)\n",
        "  weather_data = response.json()\n",
        "  return weather_data\n",
        "\n",
        "# Example usage\n",
        "city = \"Karachi\"\n",
        "weather_data = get_weather(city)\n",
        "print(weather_data)"
      ],
      "metadata": {
        "colab": {
          "base_uri": "https://localhost:8080/"
        },
        "id": "HJf6AdJyeLTv",
        "outputId": "a3f211d2-72a3-41b5-ed14-380523344fab"
      },
      "execution_count": 12,
      "outputs": [
        {
          "output_type": "stream",
          "name": "stdout",
          "text": [
            "{'location': {'name': 'Karachi', 'region': 'Sindh', 'country': 'Pakistan', 'lat': 24.8667, 'lon': 67.05, 'tz_id': 'Asia/Karachi', 'localtime_epoch': 1738261981, 'localtime': '2025-01-30 23:33'}, 'current': {'last_updated_epoch': 1738261800, 'last_updated': '2025-01-30 23:30', 'temp_c': 18.3, 'temp_f': 64.9, 'is_day': 0, 'condition': {'text': 'Mist', 'icon': '//cdn.weatherapi.com/weather/64x64/night/143.png', 'code': 1030}, 'wind_mph': 8.9, 'wind_kph': 14.4, 'wind_degree': 282, 'wind_dir': 'WNW', 'pressure_mb': 1012.0, 'pressure_in': 29.88, 'precip_mm': 0.0, 'precip_in': 0.0, 'humidity': 45, 'cloud': 0, 'feelslike_c': 18.3, 'feelslike_f': 64.9, 'windchill_c': 20.5, 'windchill_f': 68.9, 'heatindex_c': 20.5, 'heatindex_f': 68.9, 'dewpoint_c': 12.4, 'dewpoint_f': 54.3, 'vis_km': 5.0, 'vis_miles': 3.0, 'uv': 0.0, 'gust_mph': 15.2, 'gust_kph': 24.5}}\n"
          ]
        }
      ]
    },
    {
      "cell_type": "code",
      "source": [
        "import json\n",
        "\n",
        "chat_history=[\n",
        "    {\n",
        "        \"role\": \"user\",\n",
        "        \"content\": \"What's the weather in France today?\"\n",
        "    }\n",
        "  ]\n",
        "\n",
        "while True:\n",
        "\n",
        "  completion = client.chat.completions.create(\n",
        "    model=\"meta-llama/Llama-3.3-70B-Instruct-Turbo-Free\",\n",
        "    messages=chat_history,\n",
        "    tools=tools\n",
        "  )\n",
        "\n",
        "  tool_calls = completion.choices[0].message.tool_calls\n",
        "\n",
        "  if tool_calls:\n",
        "    arguments = tool_calls[0].function.arguments\n",
        "    print(arguments)\n",
        "    name = tool_calls[0].function.name\n",
        "    print(name)\n",
        "\n",
        "    chat_history.append(completion.choices[0].message)\n",
        "\n",
        "    if name == \"check_weather\":\n",
        "      city = json.loads(arguments)[\"city_name\"]\n",
        "      weather_data = get_weather(city)\n",
        "      chat_history.append({\n",
        "          \"role\": \"function\",\n",
        "          \"name\": name,\n",
        "          \"content\": json.dumps(weather_data)\n",
        "      })\n",
        "  else:\n",
        "    print(completion.choices[0].message.content)\n",
        "    break"
      ],
      "metadata": {
        "colab": {
          "base_uri": "https://localhost:8080/"
        },
        "id": "hrGSDc6MfYpk",
        "outputId": "0f36eefd-a2d4-4b5e-a080-573054b09bb1"
      },
      "execution_count": 13,
      "outputs": [
        {
          "output_type": "stream",
          "name": "stdout",
          "text": [
            "{\"city_name\":\"Paris\"}\n",
            "check_weather\n",
            "The weather in Paris, France today is partly cloudy with a temperature of 6.3°C (43.3°F) and a feels-like temperature of 3.7°C (38.6°F). The wind is blowing at 8.1 mph (13.0 kph) from the north-northeast, and the humidity is 93%. There is no precipitation, and the visibility is 10 km (6 miles). The UV index is 0.0, and the gust speed is 10.6 mph (17.0 kph).\n"
          ]
        }
      ]
    }
  ]
}